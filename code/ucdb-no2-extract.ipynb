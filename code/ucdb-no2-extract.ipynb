{
 "cells": [
  {
   "cell_type": "code",
   "execution_count": 2,
   "metadata": {},
   "outputs": [],
   "source": [
    "import geopandas as gpd\n",
    "import pandas as pd\n",
    "from rasterstats import zonal_stats"
   ]
  },
  {
   "cell_type": "code",
   "execution_count": 3,
   "metadata": {},
   "outputs": [
    {
     "name": "stdout",
     "output_type": "stream",
     "text": [
      "Completed processing data for year 1990\n",
      "Completed processing data for year 1995\n",
      "Completed processing data for year 2000\n",
      "Completed processing data for year 2005\n",
      "Completed processing data for year 2006\n",
      "Completed processing data for year 2007\n"
     ]
    }
   ],
   "source": [
    "# Specify the years of interest\n",
    "years = [1990, 1995, 2000] + list(range(2005, 2021))\n",
    "\n",
    "# Create an empty DataFrame to store the merged data\n",
    "merged_data = pd.DataFrame()\n",
    "\n",
    "for year in years:\n",
    "    raster_path = f'/Users/andrewzimmer/Documents/Montana State - Postdoc/Research/Zimmer - Urban Demography : AQ : Heat/data/aq/no2/{year}_final_1km.tif'\n",
    "    shapefile_path = '/Users/andrewzimmer/Documents/Montana State - Postdoc/Research/Zimmer - Urban Demography : AQ : Heat/data/UCDB/ghs_ucdb.shp'\n",
    "    shp = gpd.read_file(shapefile_path)\n",
    "    stats = zonal_stats(shp, raster_path, stats=\"mean\")\n",
    "    stats_zonal = pd.DataFrame(stats)\n",
    "    stats_zonal['fid'] = shp['fid']\n",
    "    stats_zonal['Name'] = shp['UC_NM_MN']\n",
    "    stats_zonal.rename({'mean': f\"mean_{year}\"}, axis=1, inplace=True)\n",
    "    print(f\"Completed processing data for year {year}\")\n",
    "\n",
    "    # Merge the data on 'fid' and 'Name' fields\n",
    "    if merged_data.empty:\n",
    "        merged_data = stats_zonal\n",
    "    else:\n",
    "        merged_data = pd.merge(merged_data, stats_zonal, on=['fid', 'Name'], how='outer')\n",
    "\n",
    "# Display the merged data\n",
    "merged_data"
   ]
  },
  {
   "cell_type": "code",
   "execution_count": null,
   "metadata": {},
   "outputs": [],
   "source": [
    "# Melt the data frame\n",
    "melted_df = pd.melt(merged_data, id_vars=['ID', 'Name'], var_name='year', value_name='NO2')\n",
    "\n",
    "# Extract year from the 'year' column\n",
    "melted_df['year'] = melted_df['year'].str.extract('(\\d+)')\n",
    "\n",
    "# Drop the 'name' column\n",
    "melted_df = melted_df.drop(columns=['Name'])\n",
    "\n",
    "# Check it looks ok\n",
    "melted_df"
   ]
  },
  {
   "cell_type": "code",
   "execution_count": null,
   "metadata": {},
   "outputs": [],
   "source": [
    "# Export the file\n",
    "merged_data.to_csv('/Users/andrewzimmer/Documents/Montana State - Postdoc/Research/Zimmer - Urban Demography : AQ : Heat/data/aq/no2/ucdb-no2-extracted.csv', index = False)"
   ]
  }
 ],
 "metadata": {
  "kernelspec": {
   "display_name": "Python 3",
   "language": "python",
   "name": "python3"
  },
  "language_info": {
   "codemirror_mode": {
    "name": "ipython",
    "version": 3
   },
   "file_extension": ".py",
   "mimetype": "text/x-python",
   "name": "python",
   "nbconvert_exporter": "python",
   "pygments_lexer": "ipython3",
   "version": "3.11.4"
  }
 },
 "nbformat": 4,
 "nbformat_minor": 2
}
